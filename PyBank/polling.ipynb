{
 "cells": [
  {
   "cell_type": "code",
   "execution_count": 1,
   "metadata": {},
   "outputs": [],
   "source": [
    "import os\n",
    "import csv\n"
   ]
  },
  {
   "cell_type": "code",
   "execution_count": 2,
   "metadata": {},
   "outputs": [
    {
     "data": {
      "text/plain": [
       "'./Resources/election_data.csv'"
      ]
     },
     "execution_count": 2,
     "metadata": {},
     "output_type": "execute_result"
    }
   ],
   "source": [
    "inputfile= os.path.join(\".\",\"Resources\", \"election_data.csv\")\n",
    "inputfile"
   ]
  },
  {
   "cell_type": "code",
   "execution_count": null,
   "metadata": {},
   "outputs": [],
   "source": [
    "candidates=[]\n",
    "votes=[]\n",
    "vote=0\n",
    "with open(inputfile,\"r\") as csvfile:\n",
    "    poll=csv.reader(csvfile,delimiter=\",\")\n",
    "    header=next(poll, None)\n",
    "    #for row in csvreader:\n",
    "    for row in poll:\n",
    "        vote += 1\n",
    "        votes.append(row[0])\n",
    "        print(votes)\n",
    "        \n",
    "        \n",
    "        \n",
    "        \n",
    "        \n",
    "        \n",
    "        \n",
    "        \n",
    "         print(\"Election Results\")\n",
    "    print(\"----------------------------\")\n",
    "    print(\"Total Votes:\" + \" \" + str(vote))\n",
    "    print(\"Total: \" + \"$\" + str(Total))\n",
    "    print(\"Average Change: \" + \"$\" + str(average))\n",
    "    print(\"Greatest Increase: \" + str(total_months[dateincrease + 1]) + \" $\" + str(increase))\n",
    "    print(\"Greatest Decrease: \" + str(total_months[datedecrease + 1]) + \" $\" + str(decrease))\n",
    "  "
   ]
  }
 ],
 "metadata": {
  "kernelspec": {
   "display_name": "Conda [PythonData]",
   "language": "python",
   "name": "pythondata"
  },
  "language_info": {
   "codemirror_mode": {
    "name": "ipython",
    "version": 3
   },
   "file_extension": ".py",
   "mimetype": "text/x-python",
   "name": "python",
   "nbconvert_exporter": "python",
   "pygments_lexer": "ipython3",
   "version": "3.7.3"
  }
 },
 "nbformat": 4,
 "nbformat_minor": 2
}
